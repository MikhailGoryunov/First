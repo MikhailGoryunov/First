{
 "cells": [
  {
   "cell_type": "code",
   "execution_count": 171,
   "metadata": {},
   "outputs": [],
   "source": [
    "import numpy as np\n",
    "import pandas as pd\n",
    "import datetime\n",
    "from datetime import datetime, date\n",
    "pd.set_option('display.notebook_repr_html', False)\n",
    "pd.set_option('display.max_columns', 10)\n",
    "pd.set_option('display.max_rows', 10)\n",
    "pd.set_option('display.width', 80)"
   ]
  },
  {
   "cell_type": "code",
   "execution_count": 172,
   "metadata": {},
   "outputs": [],
   "source": [
    "table = pd.read_excel('D:\\export1.xlsx',\n",
    "                        index_col='Материал')\n",
    "sel = table.Завод == 2500\n",
    "#(len(sel), sel.sum())\n",
    "table = table[~sel]\n",
    "sel1 = table.Завод ==2501\n",
    "#(len(sel1), sel1.sum())\n",
    "table = table[~sel1]\n",
    "sel2 = table.Завод ==2900\n",
    "table = table[~sel2]\n",
    "table\n",
    "\n",
    "reindexed = table.reset_index()\n",
    "t = reindexed.set_index(['Завод', 'Материал'])\n",
    "t.rename(columns=\n",
    "        {'Кол-во в ЕИ ввода': 'Количество'},\n",
    "        inplace=True)\n",
    "t.rename(columns=\n",
    "        {'Дата проводки': 'Дата'},\n",
    "        inplace=True)\n",
    "copy = t.copy()\n",
    "t = copy.drop(['Склад', 'Вид движения', 'Особый запас', 'Документ материала', 'Поз. док. материала', 'ЕИ ввода'], axis = 1)\n",
    "#t\n",
    "\n"
   ]
  },
  {
   "cell_type": "code",
   "execution_count": 173,
   "metadata": {},
   "outputs": [],
   "source": [
    "#grouped_by_Завод = at.groupby('Завод')\n",
    "#grouped_by_Завод\n",
    "#grouped_by_Материал = at.groupby('Материал')\n",
    "#grouped_by_Материал"
   ]
  },
  {
   "cell_type": "code",
   "execution_count": 174,
   "metadata": {},
   "outputs": [],
   "source": [
    "#def print_groups (group_object):\n",
    "#    for name, group in group_object:\n",
    "#        print(name)\n",
    "#        print(group[:5])\n",
    "#print_groups(grouped_by_Завод)\n",
    "#print_groups(grouped_by_Материал)"
   ]
  },
  {
   "cell_type": "code",
   "execution_count": 175,
   "metadata": {},
   "outputs": [],
   "source": [
    "tab = t.groupby(level=['Завод', 'Материал'])\n",
    "#print_groups(at.groupby(level=['Завод', 'Материал']))"
   ]
  },
  {
   "cell_type": "code",
   "execution_count": 176,
   "metadata": {},
   "outputs": [],
   "source": [
    "t = tab.agg({'Количество': np.sum,\n",
    "        'Дата' : np.max})\n",
    "#t[:10]"
   ]
  },
  {
   "cell_type": "code",
   "execution_count": 177,
   "metadata": {},
   "outputs": [],
   "source": [
    "t = t[t.Количество > 0]\n",
    "#t"
   ]
  },
  {
   "cell_type": "code",
   "execution_count": 178,
   "metadata": {},
   "outputs": [
    {
     "data": {
      "text/plain": [
       "datetime.date(2019, 1, 22)"
      ]
     },
     "execution_count": 178,
     "metadata": {},
     "output_type": "execute_result"
    }
   ],
   "source": [
    "datetime.now().date()"
   ]
  },
  {
   "cell_type": "code",
   "execution_count": 179,
   "metadata": {},
   "outputs": [],
   "source": [
    "t_copy = t.copy()\n",
    "t_copy['time'] = pd.Timestamp('now') #datetime.now().date()\n",
    "#t_copy"
   ]
  },
  {
   "cell_type": "code",
   "execution_count": 180,
   "metadata": {},
   "outputs": [
    {
     "data": {
      "text/plain": [
       "Количество             int64\n",
       "Дата          datetime64[ns]\n",
       "time          datetime64[ns]\n",
       "dtype: object"
      ]
     },
     "execution_count": 180,
     "metadata": {},
     "output_type": "execute_result"
    }
   ],
   "source": [
    "#pd.to_datetime(['2019-01-21'], errors=\"coerce\")\n",
    "t_copy.dtypes"
   ]
  },
  {
   "cell_type": "code",
   "execution_count": 181,
   "metadata": {},
   "outputs": [],
   "source": [
    "t_copy['Разница'] = t_copy.time - t_copy.Дата"
   ]
  },
  {
   "cell_type": "code",
   "execution_count": 182,
   "metadata": {},
   "outputs": [],
   "source": [
    "qqq = t_copy[k_copy.Разница > '14 days']\n",
    "#qqq"
   ]
  },
  {
   "cell_type": "code",
   "execution_count": 183,
   "metadata": {},
   "outputs": [],
   "source": [
    "kt.to_excel(\"D:\\qqq.xlsx\")"
   ]
  },
  {
   "cell_type": "code",
   "execution_count": null,
   "metadata": {},
   "outputs": [],
   "source": []
  },
  {
   "cell_type": "code",
   "execution_count": null,
   "metadata": {},
   "outputs": [],
   "source": []
  }
 ],
 "metadata": {
  "kernelspec": {
   "display_name": "Python 3",
   "language": "python",
   "name": "python3"
  },
  "language_info": {
   "codemirror_mode": {
    "name": "ipython",
    "version": 3
   },
   "file_extension": ".py",
   "mimetype": "text/x-python",
   "name": "python",
   "nbconvert_exporter": "python",
   "pygments_lexer": "ipython3",
   "version": "3.6.5"
  }
 },
 "nbformat": 4,
 "nbformat_minor": 2
}

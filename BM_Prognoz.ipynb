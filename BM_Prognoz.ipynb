{
 "cells": [
  {
   "cell_type": "code",
   "execution_count": 46,
   "metadata": {},
   "outputs": [],
   "source": [
    "import numpy as np\n",
    "import pandas as pd\n",
    "import datetime\n",
    "from datetime import datetime, date\n",
    "pd.set_option('display.notebook_repr_html', False)\n",
    "pd.set_option('display.max_columns', 8)\n",
    "pd.set_option('display.max_rows', 10)\n",
    "pd.set_option('display.width', 80)\n",
    "\n",
    "bm = pd.read_excel(\"T:\\разное\\Export9.xlsx\",\n",
    "                  index_col='Материал')\n",
    "#bm\n"
   ]
  },
  {
   "cell_type": "code",
   "execution_count": 45,
   "metadata": {},
   "outputs": [
    {
     "data": {
      "text/plain": [
       "                 Завод       Дата  Количество\n",
       "Материал                                     \n",
       "15036Z064DB.09/   2100 2018-11-13           6\n",
       "15036Z064DB.09/   2100 2018-11-13          -6\n",
       "15036Z064DB.09/   2200 2018-10-30          -1\n",
       "15036Z064DB.09/   2200 2018-10-25          -1\n",
       "15036Z064DB.09/   2200 2018-10-25          -2\n",
       "...                ...        ...         ...\n",
       "24387Z0430M.91/   2600 2018-12-26           1\n",
       "24387Z0430M.91/   2700 2018-12-26           1\n",
       "24387Z0430M.91/   2730 2018-12-05           1\n",
       "24387Z0430M.91/   2800 2018-12-18          -2\n",
       "24387Z0430M.91/   2800 2018-12-10           2\n",
       "\n",
       "[7217 rows x 3 columns]"
      ]
     },
     "execution_count": 45,
     "metadata": {},
     "output_type": "execute_result"
    }
   ],
   "source": [
    "bm = bm[['Завод', 'Дата проводки', 'Кол-во в ЕИ ввода']]\n",
    "bm = bm.rename(columns=\n",
    "              {'Дата проводки': 'Дата',\n",
    "              'Кол-во в ЕИ ввода': 'Количество'})\n",
    "bm"
   ]
  },
  {
   "cell_type": "code",
   "execution_count": 41,
   "metadata": {},
   "outputs": [],
   "source": [
    "#bm.loc['24387Z0430M.91/']"
   ]
  },
  {
   "cell_type": "code",
   "execution_count": null,
   "metadata": {},
   "outputs": [],
   "source": []
  }
 ],
 "metadata": {
  "kernelspec": {
   "display_name": "Python 3",
   "language": "python",
   "name": "python3"
  },
  "language_info": {
   "codemirror_mode": {
    "name": "ipython",
    "version": 3
   },
   "file_extension": ".py",
   "mimetype": "text/x-python",
   "name": "python",
   "nbconvert_exporter": "python",
   "pygments_lexer": "ipython3",
   "version": "3.7.1"
  }
 },
 "nbformat": 4,
 "nbformat_minor": 2
}

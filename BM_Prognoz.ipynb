{
 "cells": [
  {
   "cell_type": "code",
   "execution_count": 6,
   "metadata": {},
   "outputs": [
    {
     "data": {
      "text/plain": [
       "             Материал  Завод  Склад  Вид движения   ...     \\\n",
       "0     15036Z064DB.09/   2100   2100           101   ...      \n",
       "1     15036Z064DB.09/   2100   2100           601   ...      \n",
       "2     15036Z064DB.09/   2200   2200           601   ...      \n",
       "3     15036Z064DB.09/   2200   2200           601   ...      \n",
       "4     15036Z064DB.09/   2200   2200           601   ...      \n",
       "...               ...    ...    ...           ...   ...      \n",
       "7212  24387Z0430M.91/   2600   2600           101   ...      \n",
       "7213  24387Z0430M.91/   2700   2700           101   ...      \n",
       "7214  24387Z0430M.91/   2730   2730           101   ...      \n",
       "7215  24387Z0430M.91/   2800   2800           601   ...      \n",
       "7216  24387Z0430M.91/   2800   2800           101   ...      \n",
       "\n",
       "      Поз. док. материала  Дата проводки  Кол-во в ЕИ ввода ЕИ ввода  \n",
       "0                       1     2018-11-13                  6       ШТ  \n",
       "1                      43     2018-11-13                 -6       ШТ  \n",
       "2                      23     2018-10-30                 -1       ШТ  \n",
       "3                       3     2018-10-25                 -1       ШТ  \n",
       "4                       1     2018-10-25                 -2       ШТ  \n",
       "...                   ...            ...                ...      ...  \n",
       "7212                   52     2018-12-26                  1       ШТ  \n",
       "7213                   97     2018-12-26                  1       ШТ  \n",
       "7214                    8     2018-12-05                  1       ШТ  \n",
       "7215                    6     2018-12-18                 -2       ШТ  \n",
       "7216                    4     2018-12-10                  2       ШТ  \n",
       "\n",
       "[7217 rows x 10 columns]"
      ]
     },
     "execution_count": 6,
     "metadata": {},
     "output_type": "execute_result"
    }
   ],
   "source": [
    "import numpy as np\n",
    "import pandas as pd\n",
    "import datetime\n",
    "from datetime import datetime, date\n",
    "pd.set_option('display.notebook_repr_html', False)\n",
    "pd.set_option('display.max_columns', 8)\n",
    "pd.set_option('display.max_rows', 10)\n",
    "pd.set_option('display.width', 80)\n",
    "\n",
    "bm = pd.read_excel(\"T:\\разное\\Export9.xlsx\")\n",
    "bm"
   ]
  },
  {
   "cell_type": "code",
   "execution_count": null,
   "metadata": {},
   "outputs": [],
   "source": []
  }
 ],
 "metadata": {
  "kernelspec": {
   "display_name": "Python 3",
   "language": "python",
   "name": "python3"
  },
  "language_info": {
   "codemirror_mode": {
    "name": "ipython",
    "version": 3
   },
   "file_extension": ".py",
   "mimetype": "text/x-python",
   "name": "python",
   "nbconvert_exporter": "python",
   "pygments_lexer": "ipython3",
   "version": "3.7.1"
  }
 },
 "nbformat": 4,
 "nbformat_minor": 2
}
